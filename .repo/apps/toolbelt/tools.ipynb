{
 "cells": [
  {
   "cell_type": "code",
   "execution_count": null,
   "id": "c6e5da30",
   "metadata": {},
   "outputs": [],
   "source": [
    "## Set notebook to auto reload updated modules\n",
    "%load_ext autoreload\n",
    "%autoreload 2"
   ]
  },
  {
   "cell_type": "code",
   "execution_count": null,
   "id": "17338bbc",
   "metadata": {},
   "outputs": [],
   "source": [
    "from toolbelt import ToolsFileManager, TOOLS_JSON, REPO_ROOT, Tool, Tools"
   ]
  },
  {
   "cell_type": "code",
   "execution_count": null,
   "id": "cc6bb766",
   "metadata": {},
   "outputs": [],
   "source": [
    "import pandas as pd"
   ]
  },
  {
   "cell_type": "code",
   "execution_count": null,
   "id": "4339aa58",
   "metadata": {},
   "outputs": [],
   "source": [
    "display(REPO_ROOT)\n",
    "display(TOOLS_JSON)"
   ]
  },
  {
   "cell_type": "code",
   "execution_count": null,
   "id": "6876d788",
   "metadata": {},
   "outputs": [],
   "source": [
    "tools_manager: ToolsFileManager = ToolsFileManager(TOOLS_JSON)\n",
    "if tools_manager.exists():\n",
    "    tools_manager.read()"
   ]
  },
  {
   "cell_type": "code",
   "execution_count": null,
   "id": "b922cbb3",
   "metadata": {},
   "outputs": [],
   "source": [
    "display(tools_manager.data)"
   ]
  },
  {
   "cell_type": "code",
   "execution_count": null,
   "id": "ace42612",
   "metadata": {},
   "outputs": [],
   "source": [
    "tools_df = pd.json_normalize(tools_manager.data)\n",
    "display(tools_df)"
   ]
  },
  {
   "cell_type": "code",
   "execution_count": null,
   "id": "7af73f19",
   "metadata": {},
   "outputs": [],
   "source": [
    "_tools: list[Tool] = []\n",
    "\n",
    "for t_dict in tools_manager.data:\n",
    "    t = Tool.model_validate(t_dict)\n",
    "    _tools.append(t)\n",
    "\n",
    "tools: Tools = Tools.model_validate({\"tools\": _tools})\n",
    "display(tools.num_tools)\n",
    "display(tools)"
   ]
  },
  {
   "cell_type": "code",
   "execution_count": null,
   "id": "75a1a68f",
   "metadata": {},
   "outputs": [],
   "source": []
  }
 ],
 "metadata": {
  "kernelspec": {
   "display_name": ".venv",
   "language": "python",
   "name": "python3"
  },
  "language_info": {
   "codemirror_mode": {
    "name": "ipython",
    "version": 3
   },
   "file_extension": ".py",
   "mimetype": "text/x-python",
   "name": "python",
   "nbconvert_exporter": "python",
   "pygments_lexer": "ipython3",
   "version": "3.12.11"
  }
 },
 "nbformat": 4,
 "nbformat_minor": 5
}
